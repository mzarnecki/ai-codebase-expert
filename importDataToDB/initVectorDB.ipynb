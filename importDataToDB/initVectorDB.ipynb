{
 "cells": [
  {
   "metadata": {},
   "cell_type": "markdown",
   "source": "## Setup Docker container for DB and install lib",
   "id": "441ed5a009be43e1"
  },
  {
   "metadata": {},
   "cell_type": "code",
   "source": [
    "!pip install -qU langchain_postgres\n",
    "# run postgres pg_vector docker with command: docker compose up"
   ],
   "id": "9b0d2c0d145d3488",
   "outputs": [],
   "execution_count": null
  },
  {
   "metadata": {},
   "cell_type": "markdown",
   "source": "## Setup Postgres pg_vector Vector Store and function for importing documents",
   "id": "b084b39502120b4d"
  },
  {
   "metadata": {
    "ExecuteTime": {
     "end_time": "2025-02-02T17:24:50.064700Z",
     "start_time": "2025-02-02T17:24:48.272975Z"
    }
   },
   "cell_type": "code",
   "source": [
    "from app.db.CodeGraph import CodeGraph\n",
    "import os\n",
    "from app.db.VectorStore import VectorStore\n",
    "from langchain_text_splitters import RecursiveCharacterTextSplitter\n",
    "from langchain_core.documents import Document\n",
    "from tqdm import tqdm\n",
    "from app.db.parser.FileContentProvider import FileContentProvider\n",
    "from app.db.DocumentMetadataCreator import DocumentMetadataCreator\n",
    "\n",
    "def import_source_documents(folder:str, verbose:bool=True, only_php:bool = False, graph: CodeGraph = None):\n",
    "    # Split documents and store in vector db\n",
    "    text_splitter = RecursiveCharacterTextSplitter(\n",
    "        chunk_size=10000,\n",
    "        chunk_overlap=200\n",
    "    )\n",
    "\n",
    "    vectordb = VectorStore.get_vector_store(folder)\n",
    "    dir = os.path.join(\"../data/\", folder)\n",
    "    document_metadata_creator = DocumentMetadataCreator()\n",
    "    file_content_provider = FileContentProvider()\n",
    "    for root, d_names, f_names in os.walk(dir):\n",
    "        if verbose:\n",
    "            progress_bar = tqdm(f_names)\n",
    "        else:\n",
    "            progress_bar = f_names\n",
    "        for file in progress_bar:\n",
    "            if verbose:\n",
    "                progress_bar.set_description(file)\n",
    "            if not os.path.isdir(file):\n",
    "                text = file_content_provider.get_content(root, file, only_php=only_php)\n",
    "\n",
    "                splits = []\n",
    "                metadata = document_metadata_creator.create_metadata(root, file, text)\n",
    "                if graph:\n",
    "                    graph.add_file(metadata)\n",
    "                for idx, chunk in enumerate(text_splitter.split_text(str(text))):\n",
    "                    metadata['chunk_idx'] = idx\n",
    "                    splits.append(Document(\n",
    "                        page_content = chunk,\n",
    "                        metadata = metadata\n",
    "                    ))\n",
    "                try:\n",
    "                    vectordb.add_documents(splits)\n",
    "                except Exception as e:\n",
    "                    print(e)\n"
   ],
   "id": "211bc91e0f7df3f8",
   "outputs": [],
   "execution_count": 1
  },
  {
   "metadata": {},
   "cell_type": "markdown",
   "source": "## Load Documentation",
   "id": "e12016c6443ee360"
  },
  {
   "metadata": {},
   "cell_type": "code",
   "source": "vectordb = VectorStore.get_vector_store('documentation')",
   "id": "a5d5dfceedb85218",
   "outputs": [],
   "execution_count": null
  },
  {
   "metadata": {},
   "cell_type": "code",
   "source": [
    "# drop tables\n",
    "vectordb.drop_tables()"
   ],
   "id": "52798e3b439bd99a",
   "outputs": [],
   "execution_count": null
  },
  {
   "metadata": {},
   "cell_type": "code",
   "source": "import_source_documents('documentation')",
   "id": "ff237c014d52b0ce",
   "outputs": [],
   "execution_count": null
  },
  {
   "metadata": {},
   "cell_type": "markdown",
   "source": "## Load Codebase",
   "id": "80f628e33160299f"
  },
  {
   "metadata": {
    "jupyter": {
     "is_executing": true
    },
    "ExecuteTime": {
     "start_time": "2025-02-02T17:24:52.004791Z"
    }
   },
   "cell_type": "code",
   "source": [
    "graph = CodeGraph()\n",
    "import_source_documents('code', verbose=False, graph=graph)"
   ],
   "id": "1947c94afc8db057",
   "outputs": [
    {
     "name": "stderr",
     "output_type": "stream",
     "text": [
      "2025-02-02 18:24:52.173 \n",
      "  \u001B[33m\u001B[1mWarning:\u001B[0m to view this Streamlit app on a browser, run it with the following\n",
      "  command:\n",
      "\n",
      "    streamlit run /home/michal/anaconda3/lib/python3.12/site-packages/ipykernel_launcher.py [ARGUMENTS]\n"
     ]
    },
    {
     "data": {
      "text/plain": [
       "Fetching 5 files:   0%|          | 0/5 [00:00<?, ?it/s]"
      ],
      "application/vnd.jupyter.widget-view+json": {
       "version_major": 2,
       "version_minor": 0,
       "model_id": "7934e8ddfd1c4e0082ffeb21d1ea8d03"
      }
     },
     "metadata": {},
     "output_type": "display_data"
    },
    {
     "name": "stdout",
     "output_type": "stream",
     "text": [
      "(psycopg.errors.NotNullViolation) null value in column \"id\" of relation \"langchain_pg_embedding\" violates not-null constraint\n",
      "DETAIL:  Failing row contains (null, null, null, null, null).\n",
      "[SQL: INSERT INTO langchain_pg_embedding DEFAULT VALUES ON CONFLICT (id) DO UPDATE SET embedding = excluded.embedding, document = excluded.document, cmetadata = excluded.cmetadata]\n",
      "(Background on this error at: https://sqlalche.me/e/20/gkpj)\n",
      "(psycopg.errors.NotNullViolation) null value in column \"id\" of relation \"langchain_pg_embedding\" violates not-null constraint\n",
      "DETAIL:  Failing row contains (null, null, null, null, null).\n",
      "[SQL: INSERT INTO langchain_pg_embedding DEFAULT VALUES ON CONFLICT (id) DO UPDATE SET embedding = excluded.embedding, document = excluded.document, cmetadata = excluded.cmetadata]\n",
      "(Background on this error at: https://sqlalche.me/e/20/gkpj)\n",
      "(psycopg.errors.NotNullViolation) null value in column \"id\" of relation \"langchain_pg_embedding\" violates not-null constraint\n",
      "DETAIL:  Failing row contains (null, null, null, null, null).\n",
      "[SQL: INSERT INTO langchain_pg_embedding DEFAULT VALUES ON CONFLICT (id) DO UPDATE SET embedding = excluded.embedding, document = excluded.document, cmetadata = excluded.cmetadata]\n",
      "(Background on this error at: https://sqlalche.me/e/20/gkpj)\n",
      "(psycopg.DataError) PostgreSQL text fields cannot contain NUL (0x00) bytes\n",
      "[SQL: INSERT INTO langchain_pg_embedding (id, collection_id, embedding, document, cmetadata) VALUES (%(id_m0)s::VARCHAR, %(collection_id_m0)s::UUID, %(embedding_m0)s, %(document_m0)s::VARCHAR, %(cmetadata_m0)s::JSONB), (%(id_m1)s::VARCHAR, %(collection_id_m1)s::UUID, %(embedding_m1)s, %(document_m1)s::VARCHAR, %(cmetadata_m1)s::JSONB), (%(id_m2)s::VARCHAR, %(collection_id_m2)s::UUID, %(embedding_m2)s, %(document_m2)s::VARCHAR, %(cmetadata_m2)s::JSONB), (%(id_m3)s::VARCHAR, %(collection_id_m3)s::UUID, %(embedding_m3)s, %(document_m3)s::VARCHAR, %(cmetadata_m3)s::JSONB), (%(id_m4)s::VARCHAR, %(collection_id_m4)s::UUID, %(embedding_m4)s, %(document_m4)s::VARCHAR, %(cmetadata_m4)s::JSONB), (%(id_m5)s::VARCHAR, %(collection_id_m5)s::UUID, %(embedding_m5)s, %(document_m5)s::VARCHAR, %(cmetadata_m5)s::JSONB), (%(id_m6)s::VARCHAR, %(collection_id_m6)s::UUID, %(embedding_m6)s, %(document_m6)s::VARCHAR, %(cmetadata_m6)s::JSONB), (%(id_m7)s::VARCHAR, %(collection_id_m7)s::UUID, %(embedding_m7)s, %(document_m7)s::VARCHAR, %(cmetadata_m7)s::JSONB), (%(id_m8)s::VARCHAR, %(collection_id_m8)s::UUID, %(embedding_m8)s, %(document_m8)s::VARCHAR, %(cmetadata_m8)s::JSONB), (%(id_m9)s::VARCHAR, %(collection_id_m9)s::UUID, %(embedding_m9)s, %(document_m9)s::VARCHAR, %(cmetadata_m9)s::JSONB), (%(id_m10)s::VARCHAR, %(collection_id_m10)s::UUID, %(embedding_m10)s, %(document_m10)s::VARCHAR, %(cmetadata_m10)s::JSONB), (%(id_m11)s::VARCHAR, %(collection_id_m11)s::UUID, %(embedding_m11)s, %(document_m11)s::VARCHAR, %(cmetadata_m11)s::JSONB), (%(id_m12)s::VARCHAR, %(collection_id_m12)s::UUID, %(embedding_m12)s, %(document_m12)s::VARCHAR, %(cmetadata_m12)s::JSONB), (%(id_m13)s::VARCHAR, %(collection_id_m13)s::UUID, %(embedding_m13)s, %(document_m13)s::VARCHAR, %(cmetadata_m13)s::JSONB), (%(id_m14)s::VARCHAR, %(collection_id_m14)s::UUID, %(embedding_m14)s, %(document_m14)s::VARCHAR, %(cmetadata_m14)s::JSONB), (%(id_m15)s::VARCHAR, %(collection_id_m15)s::UUID, %(embedding_m15)s, %(document_m15)s::VARCHAR, %(cmetadata_m15)s::JSONB), (%(id_m16)s::VARCHAR, %(collection_id_m16)s::UUID, %(embedding_m16)s, %(document_m16)s::VARCHAR, %(cmetadata_m16)s::JSONB), (%(id_m17)s::VARCHAR, %(collection_id_m17)s::UUID, %(embedding_m17)s, %(document_m17)s::VARCHAR, %(cmetadata_m17)s::JSONB), (%(id_m18)s::VARCHAR, %(collection_id_m18)s::UUID, %(embedding_m18)s, %(document_m18)s::VARCHAR, %(cmetadata_m18)s::JSONB), (%(id_m19)s::VARCHAR, %(collection_id_m19)s::UUID, %(embedding_m19)s, %(document_m19)s::VARCHAR, %(cmetadata_m19)s::JSONB), (%(id_m20)s::VARCHAR, %(collection_id_m20)s::UUID, %(embedding_m20)s, %(document_m20)s::VARCHAR, %(cmetadata_m20)s::JSONB), (%(id_m21)s::VARCHAR, %(collection_id_m21)s::UUID, %(embedding_m21)s, %(document_m21)s::VARCHAR, %(cmetadata_m21)s::JSONB), (%(id_m22)s::VARCHAR, %(collection_id_m22)s::UUID, %(embedding_m22)s, %(document_m22)s::VARCHAR, %(cmetadata_m22)s::JSONB), (%(id_m23)s::VARCHAR, %(collection_id_m23)s::UUID, %(embedding_m23)s, %(document_m23)s::VARCHAR, %(cmetadata_m23)s::JSONB), (%(id_m24)s::VARCHAR, %(collection_id_m24)s::UUID, %(embedding_m24)s, %(document_m24)s::VARCHAR, %(cmetadata_m24)s::JSONB), (%(id_m25)s::VARCHAR, %(collection_id_m25)s::UUID, %(embedding_m25)s, %(document_m25)s::VARCHAR, %(cmetadata_m25)s::JSONB), (%(id_m26)s::VARCHAR, %(collection_id_m26)s::UUID, %(embedding_m26)s, %(document_m26)s::VARCHAR, %(cmetadata_m26)s::JSONB), (%(id_m27)s::VARCHAR, %(collection_id_m27)s::UUID, %(embedding_m27)s, %(document_m27)s::VARCHAR, %(cmetadata_m27)s::JSONB), (%(id_m28)s::VARCHAR, %(collection_id_m28)s::UUID, %(embedding_m28)s, %(document_m28)s::VARCHAR, %(cmetadata_m28)s::JSONB), (%(id_m29)s::VARCHAR, %(collection_id_m29)s::UUID, %(embedding_m29)s, %(document_m29)s::VARCHAR, %(cmetadata_m29)s::JSONB), (%(id_m30)s::VARCHAR, %(collection_id_m30)s::UUID, %(embedding_m30)s, %(document_m30)s::VARCHAR, %(cmetadata_m30)s::JSONB), (%(id_m31)s::VARCHAR, %(collection_id_m31)s::UUID, %(embedding_m31)s, %(document_m31)s::VARCHAR, %(cmetadata_m31)s::JSONB), (%(id_m32)s::VARCHAR, %(collection_id_m32)s::UUID, %(embedding_m32)s, %(document_m32)s::VARCHAR, %(cmetadata_m32)s::JSONB), (%(id_m33)s::VARCHAR, %(collection_id_m33)s::UUID, %(embedding_m33)s, %(document_m33)s::VARCHAR, %(cmetadata_m33)s::JSONB), (%(id_m34)s::VARCHAR, %(collection_id_m34)s::UUID, %(embedding_m34)s, %(document_m34)s::VARCHAR, %(cmetadata_m34)s::JSONB), (%(id_m35)s::VARCHAR, %(collection_id_m35)s::UUID, %(embedding_m35)s, %(document_m35)s::VARCHAR, %(cmetadata_m35)s::JSONB), (%(id_m36)s::VARCHAR, %(collection_id_m36)s::UUID, %(embedding_m36)s, %(document_m36)s::VARCHAR, %(cmetadata_m36)s::JSONB), (%(id_m37)s::VARCHAR, %(collection_id_m37)s::UUID, %(embedding_m37)s, %(document_m37)s::VARCHAR, %(cmetadata_m37)s::JSONB), (%(id_m38)s::VARCHAR, %(collection_id_m38)s::UUID, %(embedding_m38)s, %(document_m38)s::VARCHAR, %(cmetadata_m38)s::JSONB), (%(id_m39)s::VARCHAR, %(collection_id_m39)s::UUID, %(embedding_m39)s, %(document_m39)s::VARCHAR, %(cmetadata_m39)s::JSONB), (%(id_m40)s::VARCHAR, %(collection_id_m40)s::UUID, %(embedding_m40)s, %(document_m40)s::VARCHAR, %(cmetadata_m40)s::JSONB), (%(id_m41)s::VARCHAR, %(collection_id_m41)s::UUID, %(embedding_m41)s, %(document_m41)s::VARCHAR, %(cmetadata_m41)s::JSONB), (%(id_m42)s::VARCHAR, %(collection_id_m42)s::UUID, %(embedding_m42)s, %(document_m42)s::VARCHAR, %(cmetadata_m42)s::JSONB), (%(id_m43)s::VARCHAR, %(collection_id_m43)s::UUID, %(embedding_m43)s, %(document_m43)s::VARCHAR, %(cmetadata_m43)s::JSONB), (%(id_m44)s::VARCHAR, %(collection_id_m44)s::UUID, %(embedding_m44)s, %(document_m44)s::VARCHAR, %(cmetadata_m44)s::JSONB), (%(id_m45)s::VARCHAR, %(collection_id_m45)s::UUID, %(embedding_m45)s, %(document_m45)s::VARCHAR, %(cmetadata_m45)s::JSONB), (%(id_m46)s::VARCHAR, %(collection_id_m46)s::UUID, %(embedding_m46)s, %(document_m46)s::VARCHAR, %(cmetadata_m46)s::JSONB), (%(id_m47)s::VARCHAR, %(collection_id_m47)s::UUID, %(embedding_m47)s, %(document_m47)s::VARCHAR, %(cmetadata_m47)s::JSONB), (%(id_m48)s::VARCHAR, %(collection_id_m48)s::UUID, %(embedding_m48)s, %(document_m48)s::VARCHAR, %(cmetadata_m48)s::JSONB), (%(id_m49)s::VARCHAR, %(collection_id_m49)s::UUID, %(embedding_m49)s, %(document_m49)s::VARCHAR, %(cmetadata_m49)s::JSONB), (%(id_m50)s::VARCHAR, %(collection_id_m50)s::UUID, %(embedding_m50)s, %(document_m50)s::VARCHAR, %(cmetadata_m50)s::JSONB), (%(id_m51)s::VARCHAR, %(collection_id_m51)s::UUID, %(embedding_m51)s, %(document_m51)s::VARCHAR, %(cmetadata_m51)s::JSONB), (%(id_m52)s::VARCHAR, %(collection_id_m52)s::UUID, %(embedding_m52)s, %(document_m52)s::VARCHAR, %(cmetadata_m52)s::JSONB), (%(id_m53)s::VARCHAR, %(collection_id_m53)s::UUID, %(embedding_m53)s, %(document_m53)s::VARCHAR, %(cmetadata_m53)s::JSONB), (%(id_m54)s::VARCHAR, %(collection_id_m54)s::UUID, %(embedding_m54)s, %(document_m54)s::VARCHAR, %(cmetadata_m54)s::JSONB), (%(id_m55)s::VARCHAR, %(collection_id_m55)s::UUID, %(embedding_m55)s, %(document_m55)s::VARCHAR, %(cmetadata_m55)s::JSONB), (%(id_m56)s::VARCHAR, %(collection_id_m56)s::UUID, %(embedding_m56)s, %(document_m56)s::VARCHAR, %(cmetadata_m56)s::JSONB), (%(id_m57)s::VARCHAR, %(collection_id_m57)s::UUID, %(embedding_m57)s, %(document_m57)s::VARCHAR, %(cmetadata_m57)s::JSONB), (%(id_m58)s::VARCHAR, %(collection_id_m58)s::UUID, %(embedding_m58)s, %(document_m58)s::VARCHAR, %(cmetadata_m58)s::JSONB), (%(id_m59)s::VARCHAR, %(collection_id_m59)s::UUID, %(embedding_m59)s, %(document_m59)s::VARCHAR, %(cmetadata_m59)s::JSONB), (%(id_m60)s::VARCHAR, %(collection_id_m60)s::UUID, %(embedding_m60)s, %(document_m60)s::VARCHAR, %(cmetadata_m60)s::JSONB), (%(id_m61)s::VARCHAR, %(collection_id_m61)s::UUID, %(embedding_m61)s, %(document_m61)s::VARCHAR, %(cmetadata_m61)s::JSONB), (%(id_m62)s::VARCHAR, %(collection_id_m62)s::UUID, %(embedding_m62)s, %(document_m62)s::VARCHAR, %(cmetadata_m62)s::JSONB) ON CONFLICT (id) DO UPDATE SET embedding = excluded.embedding, document = excluded.document, cmetadata = excluded.cmetadata]\n",
      "[parameters: {'id_m0': 'f7b1a70f-92ab-44a6-ab98-904fbebeca6d', 'collection_id_m0': UUID('46613abc-e255-4182-9bd5-44e40f1a95bd'), 'embedding_m0': '[-0.03914177790284157,0.018642084673047066,-0.029296541586518288,-0.017351344227790833,0.02334984578192234,0.00763620063662529,-0.06107904762029648,- ... (7817 characters truncated) ... 0.012055709958076477,-0.024840369820594788,-0.03542802482843399,-0.048272211104631424,0.0034425577614456415,0.04826913774013519,-0.05640977621078491]', 'document_m0': '\\x00\\x01\\x00\\x00\\x00\\x17\\x01\\x00\\x00\\x04\\x00pGDEF1�v�\\x00\\x00k�\\x00\\x00\\x1e{GPOSW��-\\x00\\x00��\\x00\\x00c�GSUB\\x13c\\x1fe\\x00\\x00\\x1e�\\x00\\x00\\x0f\\x06HV ... (24906 characters truncated) ... x00\\x01\\x00\\x08\\x00\\x01\\x00\\x12\\x00\\x01\\x00\\x08\\x00\\x01\\x00\\x04\\x01\\x01\\x00\\x02\\x00y\\x00\\x01\\x00\\x01\\x00O\\x00\\x06\\x00\\x00\\x00\\x01\\x00\\x08\\x00\\x01\\x00', 'cmetadata_m0': Jsonb({'source': 'OpenSans.ttf', 'file_pa ... (186 chars)), 'id_m1': 'eeb460ae-d0f7-42e5-8b53-575b90724b23', 'collection_id_m1': UUID('46613abc-e255-4182-9bd5-44e40f1a95bd'), 'embedding_m1': '[-0.024545442312955856,0.02987222746014595,-0.023126835003495216,-0.0037379025015980005,0.03623927757143974,0.00470755435526371,-0.035932354629039764 ... (7823 characters truncated) ... -0.026740264147520065,-0.05656760558485985,-0.06163644790649414,-0.020452117547392845,-0.02538210339844227,0.030477529391646385,0.008348885923624039]', 'document_m1': '\\x00\\x02\\x00&\\x00\\x12\\x00\\x01\\x00\\x02\\x00/\\x00O\\x00\\x01\\x00\\x04\\x00\\x00\\x00\\x02\\x00y\\x00\\x01\\x00O\\x00\\x01\\x00\\x00\\x00\\r\\x00\\x01\\x00\\x04\\x00\\x00\\x00\\x ... (18856 characters truncated) ... \\x00�\\x04\"\\x00�\\x04�\\x00\\x1f\\x044\\x00\\x11\\x05z\\x00\\r\\x04�\\x00&\\x05�\\x00�\\x055\\x00�\\x06y\\x00�\\x05�\\x00�\\x08v\\x00�\\x06�\\x00�\\x066\\x00}\\x05\\x16\\x00r\\x05', 'cmetadata_m1': Jsonb({'source': 'OpenSans.ttf', 'file_pa ... (186 chars)), 'id_m2': 'ea4a396a-4464-4ec9-ab67-e7fd25729cd4', 'collection_id_m2': UUID('46613abc-e255-4182-9bd5-44e40f1a95bd'), 'embedding_m2': '[-0.028608256950974464,0.014888343401253223,-0.03474486991763115,0.016562120988965034,0.025789031758904457,-0.003910600207746029,-0.02800640463829040 ... (7818 characters truncated) ... 0.0016870320541784167,-0.04544178023934364,-0.03043149784207344,-0.004464458208531141,-0.01768440753221512,0.026281094178557396,0.025059280917048454]', 'document_m2': '\\x00}\\x03�\\x00r\\x04h\\x00\\x10\\x03�\\x00)\\x04y\\x00\\x00\\x03�\\x00\\x00\\x04y\\x00\\x00\\x03�\\x00\\x00\\x04�\\x00\\x06\\x04Y\\x00\\'\\x06�\\x00\\x11\\x05�\\x00)\\x05�\\x00�\\x ... (23988 characters truncated) ... �\\x00���\\x01\\x1a%\\x00�\\x01*���\\t��\\x00�\\x00��t�\\x13��\\x00�\\x00�����\\x1e\\x00�\\x00��ĵ\\n�\\x11\\x00�\\x00��A��\\x13\\r\\x00�\\x00��A��\\x13\\x11\\x00�\\x00��\\x1f��', 'cmetadata_m2': Jsonb({'source': 'OpenSans.ttf', 'file_pa ... (186 chars)), 'id_m3': 'b77c2bb6-d4e4-4fb0-8563-cb02b8aae9d2', 'collection_id_m3': UUID('46613abc-e255-4182-9bd5-44e40f1a95bd'), 'embedding_m3': '[-0.0563041977584362,0.018961181864142418,-0.1191921979188919,-0.048503268510103226,0.013846144080162048,0.05089510977268219,-0.004297993611544371,-0 ... (7807 characters truncated) ... -0.011310399509966373,-0.03386495262384415,-0.006681900005787611,-0.00988717470318079,0.003197634592652321,0.051871221512556076,0.022419381886720657]', 'document_m3': '\\x00�\\x00��*�\\x03�\\x07\\x00�\\x00��\\x07�\\x10��\\x00�\\x00���\\x1e\\x19&\\x00�\\x00���\\x01\\x1a%\\x00�\\x01*���\\t��\\x00�\\x00��t�\\x13��\\x00�\\x00�����\\x1e\\x00�\\x00 ... (1578 characters truncated) ... x00��N�l���\\x00��Q�Q�\\x14\\x16\\x00��Q�U�\\x10\\x16\\x00��4�6�\\n�\\x00��9�r���\\x00����O�-0\\x00����\\\\�\\x18\\x16\\x00����X�\\x1a\\x1a\\x00����^�\\x0f\\x15\\x00��m�P�', 'cmetadata_m3': Jsonb({'source': 'OpenSans.ttf', 'file_pa ... (186 chars)), 'id_m4': 'd05caaee-a519-4af1-b95c-fcf0233ef51a', 'collection_id_m4': UUID('46613abc-e255-4182-9bd5-44e40f1a95bd'), 'embedding_m4': '[-0.06199228763580322,0.01271831151098013,0.011759044602513313,0.0042204102501273155,0.022605232894420624,-0.01704581268131733,-0.003534400137141347, ... (7797 characters truncated) ... ,0.0030072869267314672,-0.05615304037928581,-0.02900163270533085,-0.07837145030498505,-0.026091255247592926,0.04080649092793465,0.010100007988512516]', 'document_m4': '\\x00���\\x135�%\\x18\\x00��\\x18\\x135�*\\x1d\\x00\\x01\\x00\\x02\\x00\\x07\\x00\\x01\\x00\\x03\\x00\\x00\\x00\\x02\\x00\\x04\\x00\\x05\\x00\\x06\\x00��:�e���\\x00\\x06\\x00\\x02\\x ... (7146 characters truncated) ... �\\x0f��\\x04���\\x0f\\x19\\x04�\\x07\\n�\\x1e0��\\x02\\x02�\\x01����\\x01�\\x01\\x01\\x01\\x01���\\x01\\x01\\x01\\x03���\\x01\\t\\x01\\x03\\x03��\\t��\\x03���\\t\\x13��\\x0e\\x11�', 'cmetadata_m4': Jsonb({'source': 'OpenSans.ttf', 'file_pa ... (186 chars)), 'id_m5': '0d06deaf-8e11-476a-bfae-cb4dafe72667', 'collection_id_m5': UUID('46613abc-e255-4182-9bd5-44e40f1a95bd'), 'embedding_m5': '[-0.07459760457277298,0.010487297549843788,-0.031384848058223724,-0.026301473379135132,0.01578669436275959,0.024406591430306435,-0.007882657460868359 ... (7786 characters truncated) ... ,0.002112344140186906,-0.05422466620802879,-0.011800000444054604,-0.014262006618082523,0.024150893092155457,0.06468795984983444,0.021639015525579453]', 'document_m5': '\\x03���\\x0c��\\x03���\\x0c��\\x03�\\x0b�\\r��\\x03�\\x12�\\r\\x15�\\x02�\\x13� 7\\x0b�����������\\x02\\x0e.\\x05 *�\\x05��\\x02���\\x05��\\x02���\\x05\\t��\\t\\x0c�\\x07��\\x ... (13759 characters truncated) ... omicron\\x03rho\\x07uni03C2\\x05sigma\\x03tau\\x07upsilon\\x03phi\\x03chi\\x03psi\\x05omega\\x0ciotadieresis\\x0fupsilondieresis\\x0comicrontonos\\x0cupsilontonos', 'cmetadata_m5': Jsonb({'source': 'OpenSans.ttf', 'file_pa ... (186 chars)), 'id_m6': '2e0e15ad-3023-4744-8dd0-8488e6b74d88', 'collection_id_m6': UUID('46613abc-e255-4182-9bd5-44e40f1a95bd'), 'embedding_m6': '[-0.029450805857777596,-0.022823208943009377,-0.021161628887057304,0.006243616342544556,0.023549813777208328,-0.0013888247776776552,0.022972378879785 ... (7804 characters truncated) ... .014420087449252605,-0.046518001705408096,-0.032335687428712845,-0.044770464301109314,0.00801051501184702,0.014931627549231052,0.0009301360114477575]', 'document_m6': 'omegatonos\\x07uni0401\\x07uni0402\\x07uni0403\\x07uni0404\\x07uni0405\\x07uni0406\\x07uni0407\\x07uni0408\\x07uni0409\\x07uni040A\\x07uni040B\\x07uni040C\\x07uni ... (18050 characters truncated) ... \\x00\\x00\\x00\\x00\\x00\\x00G2P\\x0e\\x00\\x00\\x00\\x00\\x00\\x00G(UR\\x00\\x00\\x00\\x00\\x00\\x00G\\x1eP\\x0e\\x00\\x00\\x00\\x00\\x00\\x00G\\x14UR\\x00\\x00\\x00\\x00\\x00\\x00G', 'cmetadata_m6': Jsonb({'source': 'OpenSans.ttf', 'file_pa ... (186 chars)), 'id_m7': 'bea153c1-a0a4-4a05-af87-abfdf7720600', 'collection_id_m7': UUID('46613abc-e255-4182-9bd5-44e40f1a95bd'), 'embedding_m7': '[-0.0671892911195755,0.029412344098091125,-0.05617474392056465,-0.013180556707084179,0.036277420818805695,-0.004241718910634518,-0.0497930534183979,- ... (7794 characters truncated) ... 0.00030912505462765694,-0.08449890464544296,-0.050255827605724335,-0.02419506572186947,0.012433180585503578,0.01135232113301754,0.013962018303573132]', 'document_m7': 'P\\x0e\\x00\\x00\\x00\\x00\\x00\\x00F�UR\\x00\\x00\\x00\\x00\\x00\\x00F�P\\x0e\\x00\\x00\\x00\\x00\\x00\\x00F�UR\\x00\\x00\\x00\\x00\\x00\\x00F�P\\x0e\\x00\\x00\\x00\\x00\\x00\\x00Ub ... (28712 characters truncated) ... 7y)f\\x00<\\x00\\x03\\x03s\\x04H\\x1d�.�\\x00\\x03\\x03z\\x05�\\x1f.\\x00\\x00\\x00\\x03\\x02�\\x07A*\\x1e\\x10�\\x00\\x03\\x029\\x06\\x0b%\\x16\\x0c�\\x00\\x03\\x02�\\x07y*\\n\\x00', 'cmetadata_m7': Jsonb({'source': 'OpenSans.ttf', 'file_pa ... (186 chars)), 'id_m8': 'b9fa5364-80c6-4634-b54a-2e329a382afa', 'collection_id_m8': UUID('46613abc-e255-4182-9bd5-44e40f1a95bd'), 'embedding_m8': '[-0.09000135213136673,0.002824297407642007,-0.06921269744634628,0.0037151146680116653,-0.006204507779330015,0.02425857074558735,0.00864624697715044,- ... (7817 characters truncated) ... 3086,0.008366784080862999,-0.03302273526787758,-0.04039575159549713,-0.017847297713160515,0.03142787143588066,0.07324261963367462,0.0273651871830225]', 'document_m8': '�\\x00 \\x00I�\\x00\\x00\\x03\\x02U\\x07A\\x10\\x14\\x00\\x1e\\x00\\x03\\x02�\\x05�\\r�\\x1e�\\x00\\x03\\x03]\\x07A\\x10 \\x00\\n\\x00\\x1a\\x00O�\\x00\\x00\\x03\\x02?\\x05�\\x00.\\x1 ... (24696 characters truncated) ... \\x00\\x03\\x02��\\x14\\n�\\x00\\x00\\x00\\x03\\x03z\\x00\\x00\\x00\\n\\x00\\x00\\x00 \\x00\\x05�\\x00\\x00\\x03\\x03�\\x05�\\x00\\n\\x00\\x00\\x00 \\x00\\x00�\\x00\\x00\\x03\\x02�\\x07', 'cmetadata_m8': Jsonb({'source': 'OpenSans.ttf', 'file_pa ... (186 chars)), 'id_m9': '0edeeb56-6917-474f-a04f-d3e505e62573', 'collection_id_m9': UUID('46613abc-e255-4182-9bd5-44e40f1a95bd'), 'embedding_m9': '[-0.06326564401388168,0.027997897937893867,-0.034759730100631714,-0.010754342190921307,0.03143744543194771,0.0034145875833928585,-0.00395805621519684 ... (7821 characters truncated) ... 05,0.01078079640865326,-0.06949283182621002,-0.033204082399606705,-0.04943422973155975,0.010325745679438114,0.036171335726976395,0.01609937660396099]', 'document_m9': '�\\x00\\n\\x00\\x16\\x00\\x03�\\x00\\x00\\x03\\x02�\\x07A\\n�\\x00\\n\\x00\\x1a\\x00N�\\x00\\x00\\x03\\x02�\\x07K\\n�\\x00\\n\\x00\\x1a\\x00Z�\\x00\\x00\\x03\\x02�\\x07�\\n�\\x00\\n\\x00 ... (24478 characters truncated) ... x00\\x00\\x00\\x00\\x04�\\x05�\\x00\\x0e\\x00\\x13@\\t\\t\\x02\\x0e\\x03\\x02r\\x02\\x08r\\x00++2\\x12901\\x01\\x01#\\x013\\x01\\x1e\\x02\\x17>\\x027\\x01\\x04�����\\x01V\\x15!\\x1a', 'cmetadata_m9': Jsonb({'source': 'OpenSans.ttf', 'file_pa ... (186 chars)) ... 215 parameters truncated ... 'id_m53': '51a09a39-cc8c-4db9-bebc-bb43d4588b60', 'collection_id_m53': UUID('46613abc-e255-4182-9bd5-44e40f1a95bd'), 'embedding_m53': '[-0.10254410654306412,0.01296475064009428,-0.08631466329097748,0.0018746916903182864,0.03661933168768883,-0.005047409795224667,-0.010376687161624432, ... (7802 characters truncated) ... 187,0.010730619542300701,-0.0207139290869236,-0.05563848093152046,0.01025382149964571,-0.005045914091169834,0.05563681572675705,0.023596754297614098]', 'document_m53': '�������E�.�.�-�+�)�)\\x15!$999F==������\\x0c\\x0f\\x0f\\r\\x11\\x11\\x0c\\x1a�\\x04%$\\x15\\x06\\x05�\\x04������\\x0b\\x05\\x06\\x15$%\\x01\\x01������\\x0c���η�������\\x01 ... (16040 characters truncated) ... x0c\\x0c\\x0c\\x02��������\\x0c\\x0f���������\\x0c---\\x13\\x00�\\x12��\\x00\\x01\\n\\x0b\\x0c\\x0c\\x0c��\\n\\n\\x04\\x06\\x06\\x06\\x08\\t�\\x17\\x05\\x05\\x05�\\x00\\x0e#%\\x12�', 'cmetadata_m53': Jsonb({'source': 'OpenSans.ttf', 'file_pa ... (187 chars)), 'id_m54': '97d8b0e1-ebd2-4720-987f-2086507f67b6', 'collection_id_m54': UUID('46613abc-e255-4182-9bd5-44e40f1a95bd'), 'embedding_m54': '[-0.05130618438124657,0.02327500283718109,-0.052993688732385635,0.01801729016005993,0.034973666071891785,-0.004058930091559887,-0.02178807742893696,0 ... (7780 characters truncated) ... .012526235543191433,-0.056178513914346695,-0.01438061147928238,-0.07763893902301788,-0.01854627951979637,0.028866540640592575,-0.0036261300556361675]', 'document_m54': '\\x04\\x06\\x06\\x06\\x08\\t�\\x17\\x05\\x05\\x05�\\x00\\x0e#%\\x12�\\t\\t\\t\\n\\n\\x01�����\\n\\x0f\\t�\\x00�\\x07\\x00@\\x00\\\\\\x00\\x06\\x00Z@\\x05\\x00\\x00\\x00\\x00@\\x00\\x00\\x0 ... (20238 characters truncated) ... \\x1d5%%%\\x17\\x02��\\x13$   \\r������\\x0f\\x1a;;;\\x1c\\x08���\\x05\\x12777%\\x0e\\x04\\x00*��\\x04���\\x05\\x05�\\x05���\\x03���\\x14�������\\n\\x19\\x19\\x19\\n�����\\x04', 'cmetadata_m54': Jsonb({'source': 'OpenSans.ttf', 'file_pa ... (187 chars)), 'id_m55': '0102080a-e14c-470e-8688-302c4c117cde', 'collection_id_m55': UUID('46613abc-e255-4182-9bd5-44e40f1a95bd'), 'embedding_m55': '[-0.07718974351882935,-0.007014106027781963,-0.0697028860449791,-0.005288015119731426,0.04081764444708824,0.02892358973622322,0.0463070310652256,0.00 ... (7787 characters truncated) ... -0.024269208312034607,-0.05425724387168884,-0.009906657040119171,-0.009929409250617027,0.029499677941203117,0.05161096155643463,-0.01748771406710148]', 'document_m55': '�)\\x07\\x1d1NNNOB--R]PPP7\\x17\\n��\\x07�.JvvvG\\x1c���\\x1dBuuu_9!\\x00f��\\x04\\x02�\\x06\\x0f\\x05�\\x05���\\x03���\\x14�������\\x0b\\x11\\x11\\x11\\t����\\x00\\x0b\\r\\t ... (14367 characters truncated) ... \\x04\\x04��\\x12\\x0c�\\x03�����\\x1b���\\x00�\\x01\\x03\\x08\\r��������\\x02\\x00����\\x02\\x02\\x02�\\x02�?\\x04�\\x04\\x04\\x04\\x0b\\x08�\\t\\t\\t\\x08\\x08\\x08\\x0b\\x11\\x16', 'cmetadata_m55': Jsonb({'source': 'OpenSans.ttf', 'file_pa ... (187 chars)), 'id_m56': '99438f43-c673-4172-861b-ca8a2cb46884', 'collection_id_m56': UUID('46613abc-e255-4182-9bd5-44e40f1a95bd'), 'embedding_m56': '[-0.033668503165245056,0.01625998318195343,-0.041643593460321426,0.0160069540143013,0.025463184341788292,0.0028243043925613165,-0.027571910992264748, ... (7795 characters truncated) ... .0017084040446206927,-0.049950771033763885,-0.028529668226838112,-0.03810180351138115,-0.011213022284209728,0.03548583760857582,0.019456999376416206]', 'document_m56': '\\x1b\\x11\\x13\\x04\\x08\\x08\\t\\n\\x07����\\x04��>�����\\x04\\x0b\\x01\\x06����������������������\\x00\\x0c\\n\\x0e\\t\\x02\\x02\\x02�\\x03�������\\n\\x06�����\\x08\\x08\\x08 ... (19480 characters truncated) ... \\x01\\x01\\x01\\x03\\x06\\n\\x13\\x19\\x15\\x11\\x0b\\x03\\x03\\x03�\\x1f������������������\\x07\\x13 \\x1e\\x1d\\n����\\x0e\\x0e\\x00\\x08��\\x1b���\\n\\x14\\x11\\r\\x08\\x08\\x08', 'cmetadata_m56': Jsonb({'source': 'OpenSans.ttf', 'file_pa ... (187 chars)), 'id_m57': 'f81e8fd0-f420-4fdd-ab25-624f039ab98e', 'collection_id_m57': UUID('46613abc-e255-4182-9bd5-44e40f1a95bd'), 'embedding_m57': '[-0.08463547378778458,-0.009980679489672184,-0.03818099945783615,-0.018625691533088684,-0.0034940156619995832,-0.0035225756000727415,0.00311139901168 ... (7805 characters truncated) ... ,-0.019546369090676308,-0.038845472037792206,-0.03370880335569382,-0.04003814980387688,0.018030893057584763,0.03342416509985924,0.018154947087168694]', 'document_m57': '\\x01���������������\\x1f��\\x05\\x05\\x05ئ��������٪�\\x16,B=<\\x1d����##\\x00\\x1d��\\x14���\\x10\"\\x1c\\x15\\x0e\\x0e\\x0e\\x10\\x11\\x01������ǚ@�v\\x05�����턀\\x07\\x00@ ... (19432 characters truncated) ... 00\\x00\\x00\\x00:@\\x02(��\\x00@\\x00\\x00\\x00\\x00\\x1b��\\x06\\x08\\t\\n\\x05����\\x06\\x13\\x13\\x14�����������\\x00�\\x19\\x03������������\\x04��\\x01��������\\x01�\\x13', 'cmetadata_m57': Jsonb({'source': 'OpenSans.ttf', 'file_pa ... (187 chars)), 'id_m58': '5cb1d6ec-6472-4abf-847f-1e32fcf23c78', 'collection_id_m58': UUID('46613abc-e255-4182-9bd5-44e40f1a95bd'), 'embedding_m58': '[-0.04069632291793823,0.036377713084220886,-0.013465537689626217,0.010486212559044361,0.05407882481813431,0.03828459978103638,-0.025193722918629646,0 ... (7809 characters truncated) ... 8,0.010404195636510849,-0.02462911792099476,-0.023878881707787514,-0.08971897512674332,-0.06373311579227448,0.03981330990791321,0.019962407648563385]', 'document_m58': '�����uwV,����EGIYwA\\x00�\\x00�\\x05zWJ#\\x00[�\\x19�]XXUQ\\x02\\x02\\r}sJ\\x13�\\x02\\x02�\\x0c*HW1\\x0b\\x04\\x02��\\x06�������A\\x00�\\x00�\\x02s.�B�\\x7f�x�v\\x03X[^y ... (16328 characters truncated) ... 00\\x00�\\x00@\\x00\\x00\\x00\\x00\\x06@\\x02(��\\x00@\\x00\\x00\\x00\\x02\\x01\\x01\\x02\\x01��\\x01\\x0c\\x00\\x01\\rj\\x01�\\x00\\x00\\x02@\\x00�\\x01�\\x00\\x01��\\x01�\\x00\\x01', 'cmetadata_m58': Jsonb({'source': 'OpenSans.ttf', 'file_pa ... (187 chars)), 'id_m59': '28939c67-926b-4e6f-ac04-2d1b824bd509', 'collection_id_m59': UUID('46613abc-e255-4182-9bd5-44e40f1a95bd'), 'embedding_m59': '[-0.08326810598373413,0.007593101821839809,-0.06858207285404205,-0.008304016664624214,0.0231870636343956,0.02379675582051277,0.016649240627884865,0.0 ... (7782 characters truncated) ... 7,-0.015576530247926712,-0.07858689874410629,-0.0570581778883934,0.000324523716699332,0.047953881323337555,0.05808335542678833,-0.012208332307636738]', 'document_m59': '\\x01\\x01\\x00\\x01��\\x01�\\x00\\x01��\\x01�\\x00�\\x07\\x00@\\x00\\x06\\x00\\x06\\x00\\x08@\\x05\\x00\\x00\\x00\\x00@\\x00\\x00\\x00\\x00\\x08@\\x04(�\\x00\\x00@\\x00\\x00\\x00\\x0 ... (22967 characters truncated) ... 0\\x00\\x00\\n\\x00\\x03\\x00\\n\\x00\\x01\\x00\\n@\\x00\\x00\\x00�\\x00@\\x00\\x00\\x00\\x00\\n@\\x02(��\\x00@\\x00\\x00\\x00\\x04\\x03\\x01\\x02\\x02\\x02\\x03\\x02\\x01��\\x03\\n\\x03', 'cmetadata_m59': Jsonb({'source': 'OpenSans.ttf', 'file_pa ... (187 chars)), 'id_m60': 'bb1265e4-6ea5-4a2c-9e7e-f4608dbd28c9', 'collection_id_m60': UUID('46613abc-e255-4182-9bd5-44e40f1a95bd'), 'embedding_m60': '[-0.07066744565963745,0.006218395195901394,-0.051785051822662354,0.003970558755099773,0.007569842040538788,0.0015940963057801127,0.011112847365438938 ... (7799 characters truncated) ... ,-0.020357556641101837,-0.06156570464372635,-0.025402436032891273,-0.03429009020328522,0.020028814673423767,0.05888363718986511,0.008020256645977497]', 'document_m60': '\\x03��\\x08\\x0b\\x03����\\x03��\\x0c\\x11\\x03���Ȁ\\x02\\x01\\x04\\x05\\x03����\\x03\\x02\\x01\\x00�\\x03\\x04\\x02\\x04\\x04\\x03��\\x00\\x02\\x03����\\x03��\\x07\\n\\x03����\\x ... (18998 characters truncated) ... (��\\x00@\\x00\\x00\\x00\\x003������\\x02������\\x04�\\x06\\'\\'+.$\\x0f\\x00�������������ѿ�����\\x14\\x1f\\x1f\\x1f\"\\x1c\\x07\\x00�\\x04\\x04����)\\x02\\x03�������..)\\x18', 'cmetadata_m60': Jsonb({'source': 'OpenSans.ttf', 'file_pa ... (187 chars)), 'id_m61': 'd66dd810-4c0a-4920-9bba-36356071b9c0', 'collection_id_m61': UUID('46613abc-e255-4182-9bd5-44e40f1a95bd'), 'embedding_m61': '[-0.0633365660905838,0.02110380120575428,-0.04114868491888046,-0.014677372761070728,0.03798237070441246,0.020036643370985985,-0.008868434466421604,0. ... (7792 characters truncated) ... 55,0.004781315568834543,-0.05830177292227745,-0.04510550573468208,-0.05045778304338455,0.006665921304374933,0.04919951781630516,0.005573260597884655]', 'document_m61': '\\x03\\x01\\x02\\x02\\x02���66\\x15\\x08��������\\x06\"6�3AAA>0\\x15�����������������������\\r\\x18\\x1d+8A\\x1eI|||P!\\x00з����\\x01\\x00A�\\x04�\\x06\\n\\x08\\x04�)��bei ... (16322 characters truncated) ... \\x0b\\n\\n\\x02������\\x03���\\x06\\n�\\x10YYVPB9/&\\x0b\\x0b\\x1447=^z}@\\x00�\\x1fu[F>2\\x0c\\x0c\\x0c!1+5FRY+\\x0f���\\x14/@byyyqaB\\x00O�/\\x10,.\\x17����\\x07�������', 'cmetadata_m61': Jsonb({'source': 'OpenSans.ttf', 'file_pa ... (187 chars)), 'id_m62': 'e12bfc95-f72a-4d54-ae85-c7b43acb8a2b', 'collection_id_m62': UUID('46613abc-e255-4182-9bd5-44e40f1a95bd'), 'embedding_m62': '[-0.11533984541893005,-0.013245596550405025,-0.031143251806497574,-0.025147484615445137,0.008624982088804245,0.007883994840085506,-0.0049829338677227 ... (7795 characters truncated) ... 0.0003367920871824026,-0.03353966400027275,-0.05704069137573242,-0.03935942426323891,0.047097377479076385,0.025414247065782547,-0.014932401478290558]', 'document_m62': '\\x02������\\x03���\\x06\\n�\\x10YYVPB9/&\\x0b\\x0b\\x1447=^z}@\\x00�\\x1fu[F>2\\x0c\\x0c\\x0c!1+5FRY+\\x0f���\\x14/@byyyqaB\\x00O�/\\x10,.\\x17����\\x07�������\\n\\n���� ... (16421 characters truncated) ... x00\\x00\\t@\\x02(��\\x00@\\x00\\x00\\x00\\x00�\\x02�\\x00ʁ��\\x02W\\x00l��\\x02\\x01\\x01\\x02A\\x00�\\x00���\\x02�\\x00����\\x02\\x1b\\x00\\x06���\\x02�\\x00⁅�@�\\\\�\\x00䁅\\x00', 'cmetadata_m62': Jsonb({'source': 'OpenSans.ttf', 'file_pa ... (187 chars))}]\n",
      "(Background on this error at: https://sqlalche.me/e/20/9h9h)\n",
      "(psycopg.DataError) PostgreSQL text fields cannot contain NUL (0x00) bytes\n",
      "[SQL: INSERT INTO langchain_pg_embedding (id, collection_id, embedding, document, cmetadata) VALUES (%(id_m0)s::VARCHAR, %(collection_id_m0)s::UUID, %(embedding_m0)s, %(document_m0)s::VARCHAR, %(cmetadata_m0)s::JSONB), (%(id_m1)s::VARCHAR, %(collection_id_m1)s::UUID, %(embedding_m1)s, %(document_m1)s::VARCHAR, %(cmetadata_m1)s::JSONB) ON CONFLICT (id) DO UPDATE SET embedding = excluded.embedding, document = excluded.document, cmetadata = excluded.cmetadata]\n",
      "[parameters: {'id_m0': '0cc772a4-1f7b-4ef6-9709-1531e506f8ba', 'collection_id_m0': UUID('46613abc-e255-4182-9bd5-44e40f1a95bd'), 'embedding_m0': '[-0.016597867012023926,0.013625673949718475,-0.007007035426795483,-0.015391102060675621,0.0317704901099205,-0.025747675448656082,0.019041653722524643 ... (7812 characters truncated) ... ,-0.0467393733561039,-0.06280084699392319,-0.04802580550312996,-0.026459025219082832,-0.0002638905425556004,0.03512861952185631,0.017477186396718025]', 'document_m0': '\\x00\\x00\\x01\\x00\\x03\\x0000\\x00\\x00\\x01\\x00 \\x00�%\\x00\\x006\\x00\\x00\\x00  \\x00\\x00\\x01\\x00 \\x00�\\x10\\x00\\x00�%\\x00\\x00\\x10\\x10\\x00\\x00\\x01\\x00 \\x00h\\x0 ... (15587 characters truncated) ... x00\\x00\\x00\\x00\\x00\\x00\\x00\\x00\\x00\\x00\\x00\\x00\\x00\\x00\\x00\\x00\\x00\\x00\\x00\\x00\\x00\\x00\\x00\\x00\\x00\\x00A@@\\x06A@@FA@@�A@@�A@@�A@@�A@@�A@@�A@@�A@@WA@@', 'cmetadata_m0': Jsonb({'source': 'favicon.ico', 'file_pat ... (182 chars)), 'id_m1': 'dff0a1e1-bdae-447a-93ff-6fa87ce600ef', 'collection_id_m1': UUID('46613abc-e255-4182-9bd5-44e40f1a95bd'), 'embedding_m1': '[-0.04981227591633797,0.015125607140362263,0.004299260675907135,0.022446822375059128,-0.0005207447684369981,0.010239116847515106,0.03541174903512001, ... (7803 characters truncated) ... -0.056543368846178055,-0.09190770238637924,-0.022510478273034096,-0.004975536372512579,-0.003222478786483407,0.02623145468533039,0.04564643278717995]', 'document_m1': '\\x00\\x00\\x00\\x00\\x00\\x00\\x00\\x00\\x00\\x00\\x00\\x00\\x00\\x00\\x00\\x00��\\x1d\\x02��\\x1d0��\\x1d���\\x1d-\\x00\\x00\\x00\\x00\\x00\\x00\\x00\\x00A@@5A@@�A@@�A@@�A@@x\\x ... (24727 characters truncated) ... x00\\x00�\\x03\\x00\\x00�\\x01\\x00\\x00�\\x01\\x00\\x00��\\x00\\x00��\\x00\\x00�9\\x00\\x00��\\x00\\x00��\\x00\\x00��\\x00\\x00��\\x00\\x00��\\x00\\x00�?\\x00\\x00�\\x7f\\x00\\x00', 'cmetadata_m1': Jsonb({'source': 'favicon.ico', 'file_pat ... (182 chars))}]\n",
      "(Background on this error at: https://sqlalche.me/e/20/9h9h)\n",
      "(psycopg.errors.NotNullViolation) null value in column \"id\" of relation \"langchain_pg_embedding\" violates not-null constraint\n",
      "DETAIL:  Failing row contains (null, null, null, null, null).\n",
      "[SQL: INSERT INTO langchain_pg_embedding DEFAULT VALUES ON CONFLICT (id) DO UPDATE SET embedding = excluded.embedding, document = excluded.document, cmetadata = excluded.cmetadata]\n",
      "(Background on this error at: https://sqlalche.me/e/20/gkpj)\n"
     ]
    }
   ],
   "execution_count": null
  },
  {
   "metadata": {},
   "cell_type": "code",
   "source": [
    "import pickle\n",
    "with open('../graph/graph.pickle', 'wb') as handle:\n",
    "    pickle.dump(graph, handle, protocol=pickle.HIGHEST_PROTOCOL)"
   ],
   "id": "e00d3e8df4ffc3c",
   "outputs": [],
   "execution_count": null
  }
 ],
 "metadata": {
  "kernelspec": {
   "display_name": "Python 3",
   "language": "python",
   "name": "python3"
  },
  "language_info": {
   "codemirror_mode": {
    "name": "ipython",
    "version": 2
   },
   "file_extension": ".py",
   "mimetype": "text/x-python",
   "name": "python",
   "nbconvert_exporter": "python",
   "pygments_lexer": "ipython2",
   "version": "2.7.6"
  }
 },
 "nbformat": 4,
 "nbformat_minor": 5
}
