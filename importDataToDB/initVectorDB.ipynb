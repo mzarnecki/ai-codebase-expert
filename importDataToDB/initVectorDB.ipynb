{
 "cells": [
  {
   "metadata": {},
   "cell_type": "markdown",
   "source": "## Setup Docker container for DB and install lib",
   "id": "441ed5a009be43e1"
  },
  {
   "metadata": {},
   "cell_type": "code",
   "source": [
    "!pip install -qU langchain_postgres\n",
    "# run postgres pg_vector docker with command: docker compose up"
   ],
   "id": "9b0d2c0d145d3488",
   "outputs": [],
   "execution_count": null
  },
  {
   "metadata": {},
   "cell_type": "markdown",
   "source": "## Setup Postgres pg_vector Vector Store and function for importing documents",
   "id": "b084b39502120b4d"
  },
  {
   "metadata": {
    "ExecuteTime": {
     "end_time": "2025-02-02T06:06:29.937600Z",
     "start_time": "2025-02-02T06:06:29.931985Z"
    }
   },
   "cell_type": "code",
   "source": [
    "import os\n",
    "from app.db.VectorStore import VectorStore\n",
    "from langchain_text_splitters import RecursiveCharacterTextSplitter\n",
    "from langchain_core.documents import Document\n",
    "from tqdm import tqdm\n",
    "from app.db.parser.FileContentProvider import FileContentProvider\n",
    "from app.db.DocumentMetadataCreator import DocumentMetadataCreator\n",
    "\n",
    "def import_source_documents(folder:str, verbose:bool=True, only_php:bool = False):\n",
    "    # Split documents and store in vector db\n",
    "    text_splitter = RecursiveCharacterTextSplitter(\n",
    "        chunk_size=10000,\n",
    "        chunk_overlap=200\n",
    "    )\n",
    "\n",
    "    vectordb = VectorStore.get_vector_store(folder)\n",
    "    dir = os.path.join(\"../data/\", folder)\n",
    "    document_metadata_creator = DocumentMetadataCreator()\n",
    "    file_content_provider = FileContentProvider()\n",
    "    for root, d_names, f_names in os.walk(dir):\n",
    "        if verbose:\n",
    "            progress_bar = tqdm(f_names)\n",
    "        else:\n",
    "            progress_bar = f_names\n",
    "        for file in progress_bar:\n",
    "            if verbose:\n",
    "                progress_bar.set_description(file)\n",
    "            if not os.path.isdir(file):\n",
    "                text = file_content_provider.get_content(root, file, only_php=only_php)\n",
    "\n",
    "                splits = []\n",
    "                metadata = document_metadata_creator.create_metadata(root, file, text)\n",
    "                for idx, chunk in enumerate(text_splitter.split_text(str(text))):\n",
    "                    metadata['chunk_idx'] = idx\n",
    "                    splits.append(Document(\n",
    "                        page_content = chunk,\n",
    "                        metadata = metadata\n",
    "                    ))\n",
    "                try:\n",
    "                    vectordb.add_documents(splits)\n",
    "                except Exception as e:\n",
    "                    print(e)\n",
    "\n",
    "                # TODO create code graph afterwards"
   ],
   "id": "211bc91e0f7df3f8",
   "outputs": [],
   "execution_count": 6
  },
  {
   "metadata": {},
   "cell_type": "markdown",
   "source": "## Load Documentation",
   "id": "e12016c6443ee360"
  },
  {
   "metadata": {
    "ExecuteTime": {
     "end_time": "2025-02-02T06:00:19.628902Z",
     "start_time": "2025-02-02T06:00:18.065842Z"
    }
   },
   "cell_type": "code",
   "source": "vectordb = VectorStore.get_vector_store('documentation')",
   "id": "a5d5dfceedb85218",
   "outputs": [
    {
     "name": "stderr",
     "output_type": "stream",
     "text": [
      "2025-02-02 07:00:18.237 \n",
      "  \u001B[33m\u001B[1mWarning:\u001B[0m to view this Streamlit app on a browser, run it with the following\n",
      "  command:\n",
      "\n",
      "    streamlit run /home/michal/anaconda3/lib/python3.12/site-packages/ipykernel_launcher.py [ARGUMENTS]\n"
     ]
    },
    {
     "data": {
      "text/plain": [
       "Fetching 5 files:   0%|          | 0/5 [00:00<?, ?it/s]"
      ],
      "application/vnd.jupyter.widget-view+json": {
       "version_major": 2,
       "version_minor": 0,
       "model_id": "1f88c9e32ec34a5cb21b7ab7f4e0935b"
      }
     },
     "metadata": {},
     "output_type": "display_data"
    }
   ],
   "execution_count": 2
  },
  {
   "metadata": {
    "ExecuteTime": {
     "end_time": "2025-02-02T06:00:20.737975Z",
     "start_time": "2025-02-02T06:00:20.723850Z"
    }
   },
   "cell_type": "code",
   "source": [
    "# drop tables\n",
    "vectordb.drop_tables()"
   ],
   "id": "52798e3b439bd99a",
   "outputs": [],
   "execution_count": 3
  },
  {
   "metadata": {},
   "cell_type": "code",
   "source": "import_source_documents('documentation')",
   "id": "ff237c014d52b0ce",
   "outputs": [],
   "execution_count": null
  },
  {
   "metadata": {},
   "cell_type": "markdown",
   "source": "## Load Codebase",
   "id": "80f628e33160299f"
  },
  {
   "metadata": {
    "jupyter": {
     "is_executing": true
    },
    "ExecuteTime": {
     "start_time": "2025-02-02T06:06:32.485599Z"
    }
   },
   "cell_type": "code",
   "source": "import_source_documents('code', verbose=False)",
   "id": "1947c94afc8db057",
   "outputs": [
    {
     "data": {
      "text/plain": [
       "Fetching 5 files:   0%|          | 0/5 [00:00<?, ?it/s]"
      ],
      "application/vnd.jupyter.widget-view+json": {
       "version_major": 2,
       "version_minor": 0,
       "model_id": "73ca17e02f5a4e6da6bc5fe24be6de43"
      }
     },
     "metadata": {},
     "output_type": "display_data"
    }
   ],
   "execution_count": null
  },
  {
   "metadata": {
    "ExecuteTime": {
     "end_time": "2025-02-02T06:05:52.719467Z",
     "start_time": "2025-02-02T06:05:52.714124Z"
    }
   },
   "cell_type": "code",
   "source": "",
   "id": "968659d3bcba7c1b",
   "outputs": [
    {
     "data": {
      "text/plain": [
       "'None'"
      ]
     },
     "execution_count": 5,
     "metadata": {},
     "output_type": "execute_result"
    }
   ],
   "execution_count": 5
  }
 ],
 "metadata": {
  "kernelspec": {
   "display_name": "Python 3",
   "language": "python",
   "name": "python3"
  },
  "language_info": {
   "codemirror_mode": {
    "name": "ipython",
    "version": 2
   },
   "file_extension": ".py",
   "mimetype": "text/x-python",
   "name": "python",
   "nbconvert_exporter": "python",
   "pygments_lexer": "ipython2",
   "version": "2.7.6"
  }
 },
 "nbformat": 4,
 "nbformat_minor": 5
}
