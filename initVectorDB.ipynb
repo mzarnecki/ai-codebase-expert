{
 "cells": [
  {
   "metadata": {},
   "cell_type": "markdown",
   "source": "## Setup Docker container for DB and install lib",
   "id": "441ed5a009be43e1"
  },
  {
   "metadata": {},
   "cell_type": "code",
   "source": [
    "!pip install -qU langchain_postgres\n",
    "# run postgres pg_vector docker with command: docker compose up"
   ],
   "id": "9b0d2c0d145d3488",
   "outputs": [],
   "execution_count": null
  },
  {
   "metadata": {},
   "cell_type": "markdown",
   "source": "## Setup Postgres pg_vector Vector Store and function for importing documents",
   "id": "b084b39502120b4d"
  },
  {
   "metadata": {
    "ExecuteTime": {
     "end_time": "2025-02-02T17:24:50.064700Z",
     "start_time": "2025-02-02T17:24:48.272975Z"
    }
   },
   "cell_type": "code",
   "source": [
    "import os\n",
    "from app.db.VectorStore import VectorStore\n",
    "from langchain_text_splitters import RecursiveCharacterTextSplitter\n",
    "from langchain_core.documents import Document\n",
    "from tqdm import tqdm\n",
    "from app.db.parser.FileContentProvider import FileContentProvider\n",
    "from app.db.DocumentMetadataCreator import DocumentMetadataCreator\n",
    "from app.db.CodeGraph import CodeGraph\n",
    "\n",
    "def import_source_documents(folder:str, verbose:bool=True, only_php:bool = False, graph: CodeGraph = None):\n",
    "    # Split documents and store in vector db\n",
    "    text_splitter = RecursiveCharacterTextSplitter(\n",
    "        chunk_size=10000,\n",
    "        chunk_overlap=200\n",
    "    )\n",
    "\n",
    "    vectordb = VectorStore.get_vector_store(folder)\n",
    "    dir = os.path.join(\"data/\", folder)\n",
    "    document_metadata_creator = DocumentMetadataCreator()\n",
    "    file_content_provider = FileContentProvider()\n",
    "    for root, d_names, f_names in os.walk(dir):\n",
    "        if verbose:\n",
    "            progress_bar = tqdm(f_names)\n",
    "        else:\n",
    "            progress_bar = f_names\n",
    "        for file in progress_bar:\n",
    "            if verbose:\n",
    "                progress_bar.set_description(file)\n",
    "            if not os.path.isdir(file):\n",
    "                text = file_content_provider.get_content(root, file, only_php=only_php)\n",
    "\n",
    "                splits = []\n",
    "                metadata = document_metadata_creator.create_metadata(root, file, text)\n",
    "                if graph:\n",
    "                    graph.add_file(metadata)\n",
    "                for idx, chunk in enumerate(text_splitter.split_text(str(text))):\n",
    "                    metadata['chunk_idx'] = idx\n",
    "                    splits.append(Document(\n",
    "                        page_content = chunk,\n",
    "                        metadata = metadata\n",
    "                    ))\n",
    "                try:\n",
    "                    vectordb.add_documents(splits)\n",
    "                except Exception as e:\n",
    "                    print(e)\n"
   ],
   "id": "211bc91e0f7df3f8",
   "outputs": [],
   "execution_count": 1
  },
  {
   "metadata": {},
   "cell_type": "markdown",
   "source": "## Load Documentation",
   "id": "e12016c6443ee360"
  },
  {
   "metadata": {},
   "cell_type": "code",
   "source": "vectordb = VectorStore.get_vector_store('documentation')",
   "id": "a5d5dfceedb85218",
   "outputs": [],
   "execution_count": null
  },
  {
   "metadata": {},
   "cell_type": "code",
   "source": [
    "# drop tables\n",
    "vectordb.drop_tables()"
   ],
   "id": "52798e3b439bd99a",
   "outputs": [],
   "execution_count": null
  },
  {
   "metadata": {},
   "cell_type": "code",
   "source": "import_source_documents('documentation')",
   "id": "ff237c014d52b0ce",
   "outputs": [],
   "execution_count": null
  },
  {
   "metadata": {},
   "cell_type": "markdown",
   "source": "## Load Codebase",
   "id": "80f628e33160299f"
  },
  {
   "metadata": {},
   "cell_type": "code",
   "source": [
    "graph = CodeGraph()\n",
    "import_source_documents('code', verbose=False, graph=graph)"
   ],
   "id": "1947c94afc8db057",
   "outputs": [],
   "execution_count": null
  },
  {
   "metadata": {},
   "cell_type": "markdown",
   "source": "### Export graph",
   "id": "eee4c2ce52badead"
  },
  {
   "metadata": {
    "ExecuteTime": {
     "end_time": "2025-02-02T20:01:57.116619Z",
     "start_time": "2025-02-02T20:01:56.994450Z"
    }
   },
   "cell_type": "code",
   "source": [
    "import pickle\n",
    "with open('data/graph/graph.pickle', 'wb') as handle:\n",
    "    pickle.dump(graph, handle, protocol=pickle.HIGHEST_PROTOCOL)"
   ],
   "id": "e00d3e8df4ffc3c",
   "outputs": [],
   "execution_count": 5
  },
  {
   "metadata": {},
   "cell_type": "markdown",
   "source": "### Load graph and test",
   "id": "dd07a290dfce8d62"
  },
  {
   "metadata": {
    "ExecuteTime": {
     "end_time": "2025-02-03T05:56:50.336928Z",
     "start_time": "2025-02-03T05:56:50.242236Z"
    }
   },
   "cell_type": "code",
   "source": [
    "from app.db.CodeGraph import CodeGraph\n",
    "\n",
    "code_graph = CodeGraph.load('data/graph/graph.pickle')\n",
    "rels = code_graph.get_relations(\"common/components/regex/shareholderList/columnHeader/ColumnHeaderSharesPercentageOnlySharesSignRegexParser.php\")\n",
    "print(rels)"
   ],
   "id": "af195945dc6a84e5",
   "outputs": [
    {
     "name": "stdout",
     "output_type": "stream",
     "text": [
      "{'parent': 'RegexParser', 'dependencies': ['regex/RegexParser'], 'all_related': ['regex/RegexParser', 'RegexParser']}\n"
     ]
    }
   ],
   "execution_count": 2
  }
 ],
 "metadata": {
  "kernelspec": {
   "display_name": "Python 3",
   "language": "python",
   "name": "python3"
  },
  "language_info": {
   "codemirror_mode": {
    "name": "ipython",
    "version": 2
   },
   "file_extension": ".py",
   "mimetype": "text/x-python",
   "name": "python",
   "nbconvert_exporter": "python",
   "pygments_lexer": "ipython2",
   "version": "2.7.6"
  }
 },
 "nbformat": 4,
 "nbformat_minor": 5
}
